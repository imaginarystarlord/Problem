{
 "cells": [
  {
   "cell_type": "code",
   "execution_count": null,
   "metadata": {},
   "outputs": [],
   "source": [
    "import pandas as pd\n",
    "import numpy as np\n",
    "import matplotlib.pyplot as plt\n",
    "\n",
    "def readData(filename):\n",
    "    head=pd.read_csv(filename)\n",
    "    return head.values\n",
    "x=readData('/home/manik/Downloads/linear-regression-01-master/data/linearX.csv')\n",
    "x=x.reshape((99,))\n",
    "y=readData('/home/manik/Downloads/linear-regression-01-master/data/linearY.csv')\n",
    "y=y.reshape((99,))\n",
    "x=x-x.mean()/(x.std())\n",
    "X=x\n",
    "Y=y\n",
    "def hypothesis (theta ,x1):\n",
    "    return (theta[0]+(theta[1]*x1))\n",
    "\n",
    "def error (X,Y,theta):\n",
    "    m=Y.shape[0]\n",
    "    total_error=0\n",
    "    for i in range(m):\n",
    "        total_error+=(Y[i]-hypothesis(theta,X[i]))\n",
    "    return total_error\n",
    "\n",
    "def gradient(X,Y,theta):\n",
    "    grad=np.array([0.0,0.0])\n",
    "    for i in range(X.shape[0]):\n",
    "        grad[0]+=-1*(Y[i]-hypothesis(theta,X[i]))\n",
    "        grad[1]+=-1*(Y[i]-hypothesis(theta,X[i]))*X[i]\n",
    "    return grad\n",
    "\n",
    "def gradientDescent(X,Y,learning_rate):\n",
    "    \n",
    "    grad=np.array([0.0,0.0])\n",
    "    theta=np.array([0.0,0.0])\n",
    "    cur=error(X,Y,theta)\n",
    "    while (cur!=0):\n",
    "        grad=gradient(X,Y,theta)\n",
    "        \n",
    "        theta[0]=theta[0]-learning_rate*grad[0]\n",
    "        theta[1]=theta[1]-learning_rate*grad[1]\n",
    "        pre=cur\n",
    "        cur=error(X,Y,theta)\n",
    "    return theta\n",
    "\n",
    "theta=gradientDescent(X,Y,learning_rate=0.001)\n",
    "print(theta[0],theta[1])\n",
    "plt.scatter(X,Y)\n",
    "plt.plot(X,hypothesis(theta,X),color='r')"
   ]
  },
  {
   "cell_type": "code",
   "execution_count": null,
   "metadata": {},
   "outputs": [],
   "source": []
  }
 ],
 "metadata": {
  "kernelspec": {
   "display_name": "Python 3",
   "language": "python",
   "name": "python3"
  },
  "language_info": {
   "codemirror_mode": {
    "name": "ipython",
    "version": 3
   },
   "file_extension": ".py",
   "mimetype": "text/x-python",
   "name": "python",
   "nbconvert_exporter": "python",
   "pygments_lexer": "ipython3",
   "version": "3.7.1"
  }
 },
 "nbformat": 4,
 "nbformat_minor": 2
}
